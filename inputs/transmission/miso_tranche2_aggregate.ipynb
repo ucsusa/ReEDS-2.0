{
 "cells": [
  {
   "cell_type": "code",
   "execution_count": 1,
   "metadata": {},
   "outputs": [],
   "source": [
    "import pandas as pd\n",
    "import numpy as np\n",
    "import matplotlib.pyplot as plt"
   ]
  },
  {
   "cell_type": "code",
   "execution_count": 2,
   "metadata": {},
   "outputs": [],
   "source": [
    "df = pd.read_csv(\"miso_tranche2_limits.csv\", index_col=0)"
   ]
  },
  {
   "cell_type": "code",
   "execution_count": 3,
   "metadata": {},
   "outputs": [],
   "source": [
    "df = df.assign(r_rr = ['-999']*len(df))"
   ]
  },
  {
   "cell_type": "code",
   "execution_count": 4,
   "metadata": {},
   "outputs": [],
   "source": [
    "df = df.drop(columns=['r','rr','geometry_r','geometry_rr','voltage','ll']).rename(columns={'ba_r':'r',\n",
    "                                                                                      'ba_rr':'rr'})"
   ]
  },
  {
   "cell_type": "code",
   "execution_count": 5,
   "metadata": {},
   "outputs": [],
   "source": [
    "df = df.query(\"r != rr\")"
   ]
  },
  {
   "cell_type": "code",
   "execution_count": 6,
   "metadata": {},
   "outputs": [],
   "source": [
    "for index, row in df.iterrows():\n",
    "    df.at[index,'r_rr'] = f\"{row.r}-{row.rr}\""
   ]
  },
  {
   "cell_type": "code",
   "execution_count": 7,
   "metadata": {},
   "outputs": [],
   "source": [
    "df_grouped = df.set_index(['r','rr']).groupby('r_rr').sum()\n"
   ]
  },
  {
   "cell_type": "code",
   "execution_count": 8,
   "metadata": {},
   "outputs": [],
   "source": [
    "df_grouped['r'] = [int(r[0]) for r in df_grouped.index.str.split('-').values]\n",
    "df_grouped['rr'] = [int(r[1]) for r in df_grouped.index.str.split('-').values]"
   ]
  },
  {
   "cell_type": "code",
   "execution_count": 9,
   "metadata": {},
   "outputs": [],
   "source": [
    "def fix_date(x):\n",
    "    if x > 4000:\n",
    "        return int(np.ceil(x/2))\n",
    "    else:\n",
    "        return int(x)"
   ]
  },
  {
   "cell_type": "code",
   "execution_count": 10,
   "metadata": {},
   "outputs": [],
   "source": [
    "df_grouped['isd'] = df_grouped['isd'].apply(fix_date)"
   ]
  },
  {
   "cell_type": "code",
   "execution_count": 11,
   "metadata": {},
   "outputs": [],
   "source": [
    "baseline_file = \"transmission_capacity_future_ba_baseline.csv\"\n",
    "baseline_df = pd.read_csv(baseline_file).fillna(-999)"
   ]
  },
  {
   "cell_type": "code",
   "execution_count": 12,
   "metadata": {},
   "outputs": [],
   "source": [
    "baseline_df[['t','MW']] = baseline_df[['t','MW']].astype(int)"
   ]
  },
  {
   "cell_type": "code",
   "execution_count": 13,
   "metadata": {},
   "outputs": [],
   "source": [
    "def prepend_p(x):\n",
    "    return 'p' + str(x)"
   ]
  },
  {
   "cell_type": "code",
   "execution_count": 14,
   "metadata": {},
   "outputs": [],
   "source": [
    "df_grouped['r'] = df_grouped['r'].apply(prepend_p)\n",
    "df_grouped['rr'] = df_grouped['rr'].apply(prepend_p)"
   ]
  },
  {
   "cell_type": "code",
   "execution_count": 15,
   "metadata": {},
   "outputs": [],
   "source": [
    "df_grouped= df_grouped.assign(status=['Certain']*len(df_grouped),\n",
    "                  trtype=['AC']*len(df_grouped),\n",
    "                  notes=['MISO Tranche 2.1']*len(df_grouped))\\\n",
    "          .reset_index(drop=True)\\\n",
    "          .rename(columns={'isd':'t'})"
   ]
  },
  {
   "cell_type": "code",
   "execution_count": 16,
   "metadata": {},
   "outputs": [],
   "source": [
    "df_grouped[['t','MW']] = df_grouped[['t','MW']].astype(int)"
   ]
  },
  {
   "cell_type": "code",
   "execution_count": 17,
   "metadata": {},
   "outputs": [
    {
     "data": {
      "text/html": [
       "<div>\n",
       "<style scoped>\n",
       "    .dataframe tbody tr th:only-of-type {\n",
       "        vertical-align: middle;\n",
       "    }\n",
       "\n",
       "    .dataframe tbody tr th {\n",
       "        vertical-align: top;\n",
       "    }\n",
       "\n",
       "    .dataframe thead th {\n",
       "        text-align: right;\n",
       "    }\n",
       "</style>\n",
       "<table border=\"1\" class=\"dataframe\">\n",
       "  <thead>\n",
       "    <tr style=\"text-align: right;\">\n",
       "      <th></th>\n",
       "      <th>r</th>\n",
       "      <th>rr</th>\n",
       "      <th>status</th>\n",
       "      <th>trtype</th>\n",
       "      <th>t</th>\n",
       "      <th>MW</th>\n",
       "      <th>notes</th>\n",
       "    </tr>\n",
       "  </thead>\n",
       "  <tbody>\n",
       "    <tr>\n",
       "      <th>0</th>\n",
       "      <td>p61</td>\n",
       "      <td>p62</td>\n",
       "      <td>Certain</td>\n",
       "      <td>AC</td>\n",
       "      <td>2010</td>\n",
       "      <td>1021</td>\n",
       "      <td>-999</td>\n",
       "    </tr>\n",
       "    <tr>\n",
       "      <th>1</th>\n",
       "      <td>p61</td>\n",
       "      <td>p63</td>\n",
       "      <td>Certain</td>\n",
       "      <td>AC</td>\n",
       "      <td>2010</td>\n",
       "      <td>387</td>\n",
       "      <td>-999</td>\n",
       "    </tr>\n",
       "    <tr>\n",
       "      <th>2</th>\n",
       "      <td>p12</td>\n",
       "      <td>p13</td>\n",
       "      <td>Certain</td>\n",
       "      <td>AC</td>\n",
       "      <td>2011</td>\n",
       "      <td>1262</td>\n",
       "      <td>-999</td>\n",
       "    </tr>\n",
       "    <tr>\n",
       "      <th>3</th>\n",
       "      <td>p12</td>\n",
       "      <td>p15</td>\n",
       "      <td>Certain</td>\n",
       "      <td>AC</td>\n",
       "      <td>2011</td>\n",
       "      <td>765</td>\n",
       "      <td>-999</td>\n",
       "    </tr>\n",
       "    <tr>\n",
       "      <th>4</th>\n",
       "      <td>p60</td>\n",
       "      <td>p63</td>\n",
       "      <td>Certain</td>\n",
       "      <td>AC</td>\n",
       "      <td>2011</td>\n",
       "      <td>606</td>\n",
       "      <td>-999</td>\n",
       "    </tr>\n",
       "    <tr>\n",
       "      <th>...</th>\n",
       "      <td>...</td>\n",
       "      <td>...</td>\n",
       "      <td>...</td>\n",
       "      <td>...</td>\n",
       "      <td>...</td>\n",
       "      <td>...</td>\n",
       "      <td>...</td>\n",
       "    </tr>\n",
       "    <tr>\n",
       "      <th>58</th>\n",
       "      <td># p24</td>\n",
       "      <td>p25</td>\n",
       "      <td>Certain</td>\n",
       "      <td>LCC</td>\n",
       "      <td>2030</td>\n",
       "      <td>3000</td>\n",
       "      <td>TransWest Express</td>\n",
       "    </tr>\n",
       "    <tr>\n",
       "      <th>59</th>\n",
       "      <td># p5</td>\n",
       "      <td>p15</td>\n",
       "      <td>Certain</td>\n",
       "      <td>AC</td>\n",
       "      <td>2030</td>\n",
       "      <td>1732</td>\n",
       "      <td>Boardman to Hemingway</td>\n",
       "    </tr>\n",
       "    <tr>\n",
       "      <th>60</th>\n",
       "      <td>### ^^^</td>\n",
       "      <td>-999</td>\n",
       "      <td>-999</td>\n",
       "      <td>-999</td>\n",
       "      <td>-999</td>\n",
       "      <td>-999</td>\n",
       "      <td>-999</td>\n",
       "    </tr>\n",
       "    <tr>\n",
       "      <th>61</th>\n",
       "      <td>p80</td>\n",
       "      <td>p104</td>\n",
       "      <td>Possible</td>\n",
       "      <td>AC</td>\n",
       "      <td>0</td>\n",
       "      <td>100000</td>\n",
       "      <td>Allows Chicago to connect to rest of PJM</td>\n",
       "    </tr>\n",
       "    <tr>\n",
       "      <th>62</th>\n",
       "      <td>p104</td>\n",
       "      <td>p111</td>\n",
       "      <td>Possible</td>\n",
       "      <td>AC</td>\n",
       "      <td>0</td>\n",
       "      <td>100000</td>\n",
       "      <td>Allows SW Michigan to connect to rest of PJM</td>\n",
       "    </tr>\n",
       "  </tbody>\n",
       "</table>\n",
       "<p>63 rows × 7 columns</p>\n",
       "</div>"
      ],
      "text/plain": [
       "          r    rr    status trtype     t      MW  \\\n",
       "0       p61   p62   Certain     AC  2010    1021   \n",
       "1       p61   p63   Certain     AC  2010     387   \n",
       "2       p12   p13   Certain     AC  2011    1262   \n",
       "3       p12   p15   Certain     AC  2011     765   \n",
       "4       p60   p63   Certain     AC  2011     606   \n",
       "..      ...   ...       ...    ...   ...     ...   \n",
       "58    # p24   p25   Certain    LCC  2030    3000   \n",
       "59     # p5   p15   Certain     AC  2030    1732   \n",
       "60  ### ^^^  -999      -999   -999  -999    -999   \n",
       "61      p80  p104  Possible     AC     0  100000   \n",
       "62     p104  p111  Possible     AC     0  100000   \n",
       "\n",
       "                                           notes  \n",
       "0                                           -999  \n",
       "1                                           -999  \n",
       "2                                           -999  \n",
       "3                                           -999  \n",
       "4                                           -999  \n",
       "..                                           ...  \n",
       "58                             TransWest Express  \n",
       "59                         Boardman to Hemingway  \n",
       "60                                          -999  \n",
       "61      Allows Chicago to connect to rest of PJM  \n",
       "62  Allows SW Michigan to connect to rest of PJM  \n",
       "\n",
       "[63 rows x 7 columns]"
      ]
     },
     "execution_count": 17,
     "metadata": {},
     "output_type": "execute_result"
    }
   ],
   "source": [
    "baseline_df"
   ]
  },
  {
   "cell_type": "code",
   "execution_count": 18,
   "metadata": {},
   "outputs": [],
   "source": [
    "updated_baseline = pd.concat([baseline_df, df_grouped])"
   ]
  },
  {
   "cell_type": "code",
   "execution_count": 19,
   "metadata": {},
   "outputs": [],
   "source": [
    "updated_baseline = updated_baseline.fillna(-999).replace(-999, \"\")"
   ]
  },
  {
   "cell_type": "code",
   "execution_count": 20,
   "metadata": {},
   "outputs": [],
   "source": [
    "updated_baseline.to_csv(baseline_file, index=False)"
   ]
  }
 ],
 "metadata": {
  "kernelspec": {
   "display_name": "pypsa-illinois02",
   "language": "python",
   "name": "python3"
  },
  "language_info": {
   "codemirror_mode": {
    "name": "ipython",
    "version": 3
   },
   "file_extension": ".py",
   "mimetype": "text/x-python",
   "name": "python",
   "nbconvert_exporter": "python",
   "pygments_lexer": "ipython3",
   "version": "3.11.10"
  }
 },
 "nbformat": 4,
 "nbformat_minor": 2
}
