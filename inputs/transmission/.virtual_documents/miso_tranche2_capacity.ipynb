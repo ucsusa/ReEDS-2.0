





import pandas as pd
import matplotlib.pyplot as plt

def load_and_plot_csv(file_path, title):
    """
    Loads data from a CSV file, creates a plot of three pairs of x and y values, 
    and displays the plot. After plotting to confirm results, the function converts
    distances from miles to meters and saves the loaded CSV data into a DataFrame.

    Parameters:
    file_path (str): The path to the CSV file to load.
    title (str): The title of the plot.

    Returns:
    pd.DataFrame: A pandas DataFrame containing the data from the CSV file.
    """
    # Load the CSV data into a pandas DataFrame
    data = pd.read_csv(file_path)
   
    # Plot each pair of x and y values with custom markers and colors
    plt.figure(figsize=(10, 6))
    
    # Plot Max, Thermal, and Safe pairs
    plt.plot(data['max-mi'], data['max-MW'], label='Max', marker='o', color='red')
    plt.plot(data['thermal-mi'], data['thermal-MW'], label='Thermal', marker='x', color='blue')
    plt.plot(data['safe-mi'], data['safe-MW'], label='Safe', marker='^', color='green')
    
    # Adding titles and labels
    plt.title(title)
    plt.xlabel('Line Miles')
    plt.ylabel('MVA or MW')
    
    # Show legend
    plt.legend()
    
    # Show the plot
    plt.grid(True)
    plt.show()

    # Convert the units from miles to meters and rename the columns
    mile_columns = ['max-mi', 'thermal-mi', 'safe-mi']
    for col in mile_columns:
        data[col] = data[col] * 1609.34  # Convert miles to meters
    data = data.rename(columns={         # Rename columns to meters
        'max-mi': 'max-m',
        'thermal-mi': 'thermal-m',
        'safe-mi': 'safe-m',
        'max-MW': 'max-MW',
        'thermal-MW': 'thermal-MW',
        'safe-MW': 'safe-MW'
    })
    
    # Return the DataFrame for further use if needed
    return data


df_345 = load_and_plot_csv("MISO-345kV-lookup.csv","Conventional 345 kV Single-circuit")
print(df_345.head())


df_765 = load_and_plot_csv("MISO-765kV-lookup.csv","765 kV Single-circuit")
print(df_765.head())


# Now that we know the plots match MISO's, fix the thermal limit to the known value.
df_345['thermal-MW'] = 1793
df_765['thermal-MW'] = 6625





df_tranche2 = pd.read_csv("miso_tranche2.csv")
df_tranche2['MW'] = np.nan
print(df_tranche2.head())





def update_MW(row, df_lookup, max_MW):
    # Get the value from the 'll' column in df_tranche2
    ll_value = row['ll']
    # Find the closest value in the 'safe-m' column of the lookup dataframe
    closest_distance = df_lookup['safe-m'].iloc[(df_lookup['safe-m'] - ll_value).abs().argmin()]
    closest_MW = df_lookup.loc[df_lookup['safe-m'] == closest_distance, 'safe-MW'].values[0]

    # Apply the conditions and return the appropriate MW value
    if (ll_value < 50*1609.34) or closest_MW > max_MW:
        return max_MW
    else:
        return closest_MW

# Loop through df_tranche2 and apply the function
for index, row in df_tranche2.iterrows():
    if row['voltage'] == 345:
        df_tranche2.at[index, 'MW'] = update_MW(row, df_345, 1793)
    elif row['voltage'] == 765:
        df_tranche2.at[index, 'MW'] = update_MW(row, df_765, 6625)



print(df_tranche2.head())
df_tranche2.to_csv('miso_tranche2_limits.csv', index=False)



